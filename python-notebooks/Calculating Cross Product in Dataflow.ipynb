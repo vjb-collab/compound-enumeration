{
 "cells": [
  {
   "cell_type": "markdown",
   "id": "136d138c-08d0-401f-b541-e0155ab1c3bf",
   "metadata": {},
   "source": [
    "# Example of the CSV file that gets loaded to Cloud Storage before calling Dataflow"
   ]
  },
  {
   "cell_type": "markdown",
   "id": "be360d42-ad84-4cbf-9df0-9ff58269e82c",
   "metadata": {},
   "source": [
    "We create a CSV file with the building blocks and the possible positions that each block can occupy. Note: I am using a pipe as the delimiter. If a SMILES string can have a pipe in it, we need to pick another character."
   ]
  },
  {
   "cell_type": "markdown",
   "id": "4f67b3fc-f99c-45e6-a5ed-2e58e6d42a05",
   "metadata": {},
   "source": [
    "C1CCCC1|1,2 <br>\n",
    "C1C=CC=CC=1|1 <br>\n",
    "C1CCCCC1|1,2 <br>\n",
    "CC1C=CC=CC=1|2,3 <br>\n",
    "CC1C(C)=CC=CC=1|2 <br>\n",
    "CC1C=C(C)C=CC=1|1,2 <br>"
   ]
  },
  {
   "cell_type": "markdown",
   "id": "da0d6c76-d8f8-4445-92e5-f79d5a48a47b",
   "metadata": {
    "tags": []
   },
   "source": [
    "# Querying Cloud Storage for Building Blocks and Creating all possible combinations"
   ]
  },
  {
   "cell_type": "markdown",
   "id": "149fb104-a433-4e5b-9c8d-793813160fa2",
   "metadata": {},
   "source": [
    "Make sure the Dataflow API is enabled"
   ]
  },
  {
   "cell_type": "code",
   "execution_count": 1,
   "id": "9f5b6ee9-ce00-4063-a9f6-304a1b6d3351",
   "metadata": {},
   "outputs": [
    {
     "name": "stdout",
     "output_type": "stream",
     "text": [
      "/bin/bash: /opt/conda/lib/libtinfo.so.6: no version information available (required by /bin/bash)\n"
     ]
    }
   ],
   "source": [
    "!gcloud services enable dataflow"
   ]
  },
  {
   "cell_type": "code",
   "execution_count": 2,
   "id": "f825823c-82de-4dc1-982b-9cc98c58d65b",
   "metadata": {},
   "outputs": [],
   "source": [
    "import apache_beam as beam\n",
    "from apache_beam.options import pipeline_options\n",
    "from apache_beam.options.pipeline_options import GoogleCloudOptions\n",
    "from apache_beam.runners import DataflowRunner\n",
    "from apache_beam.runners.interactive.interactive_runner import InteractiveRunner\n",
    "import apache_beam.runners.interactive.interactive_beam as ib\n",
    "from apache_beam import pvalue\n",
    "import google.auth"
   ]
  },
  {
   "cell_type": "code",
   "execution_count": 3,
   "id": "89136f11-87a6-4924-9d1f-cd0293189085",
   "metadata": {},
   "outputs": [],
   "source": [
    "options = {\n",
    "    'project': 'compound-enumeration',\n",
    "    'temp_location' : 'gs://compound-enumeration-dataflow-temp'\n",
    "}"
   ]
  },
  {
   "cell_type": "code",
   "execution_count": 4,
   "id": "73e08ac3-4110-459e-bd47-8c36ef120642",
   "metadata": {},
   "outputs": [],
   "source": [
    "options = pipeline_options.PipelineOptions(flags=[], **options)"
   ]
  },
  {
   "cell_type": "code",
   "execution_count": 5,
   "id": "d365ad42-1a10-43f2-b584-b5cd5ef57dac",
   "metadata": {},
   "outputs": [],
   "source": [
    "p = beam.Pipeline(InteractiveRunner(), options)"
   ]
  },
  {
   "cell_type": "markdown",
   "id": "05fe387e-54ca-4582-a7cf-5df5ec987263",
   "metadata": {},
   "source": [
    "Below, we need to set whether or not this is reaction involves three reactants. We should already know this when we create the original CSV file. We can do the same thing for 4-way, 5-way, reactions, if necessary. We'll use this flag to tell some of the cross joins whether to do work or just act as pass throughs"
   ]
  },
  {
   "cell_type": "code",
   "execution_count": 6,
   "id": "fa76b163-72c3-4b73-b9cd-3fc5998e188f",
   "metadata": {},
   "outputs": [],
   "source": [
    "## this can be determined when you are creating the csv file\n",
    "## is this a trinary reaction?\n",
    "run_third_step = True"
   ]
  },
  {
   "cell_type": "code",
   "execution_count": 7,
   "id": "509aa249-3d2d-479a-8ec1-6db7c6043bba",
   "metadata": {},
   "outputs": [],
   "source": [
    "# this is the side input method\n",
    "# the list of building blocks are passed as iterables\n",
    "# and we create all the possible combinations\n",
    "\n",
    "def cross_join(left, rights):\n",
    "    for x in rights:\n",
    "        yield (left, x)\n",
    "\n",
    "def cross_join_3way(left,rights, run_step=False):\n",
    "    if (run_step):\n",
    "        for x in rights:\n",
    "            yield (left[0], left[1], x)\n",
    "    else:\n",
    "        yield(left[0], left[1])"
   ]
  },
  {
   "cell_type": "code",
   "execution_count": 8,
   "id": "1b2da381-9a79-45ce-9848-714459ceea4f",
   "metadata": {},
   "outputs": [],
   "source": [
    "class Split(beam.DoFn):\n",
    "    from apache_beam import pvalue\n",
    "    \n",
    "    # These tags will be used to tag the outputs of this DoFn.\n",
    "    \n",
    "    # In this DoFn we parse each line of the CSV file.\n",
    "    # The first part of the string is the SMILES string.\n",
    "    # The second part is turned into a list that gives the possible positions\n",
    "    # Then we tag each SMILES string to later use in the cross product\n",
    "    # Notice that these are IF statements, not IF-ELSE statements. So a SMILES string\n",
    "    # can be labeled multiple times (as we want)\n",
    "    \n",
    "    # For reactions with more reactants, just generalize this \n",
    "    OUTPUT_TAG_R1 = 'R1'\n",
    "    OUTPUT_TAG_R2 = 'R2'\n",
    "    OUTPUT_TAG_R3 = 'R3'\n",
    "\n",
    "    def process(self, element):\n",
    "        \"\"\"\n",
    "        tags the input as it processes the orignal PCollection\n",
    "        \"\"\"\n",
    "        \n",
    "        parsed_element = element.split('|')\n",
    "        smiles = parsed_element[0]\n",
    "        positions = parsed_element[1].split(',')\n",
    "                \n",
    "        if ('1' in positions):\n",
    "            yield pvalue.TaggedOutput(self.OUTPUT_TAG_R1, smiles)\n",
    "        if ('2' in positions): \n",
    "            yield pvalue.TaggedOutput(self.OUTPUT_TAG_R2, smiles)\n",
    "        if ('3' in positions):\n",
    "            yield pvalue.TaggedOutput(self.OUTPUT_TAG_R3, smiles)\n"
   ]
  },
  {
   "cell_type": "code",
   "execution_count": 9,
   "id": "90784cc9-035d-44a0-aa06-b184785d9d73",
   "metadata": {},
   "outputs": [],
   "source": [
    "# read the CSV file from cloud storage\n",
    "# and tag the building blocks with their possible positions\n",
    "\n",
    "csv = (p\n",
    "       | 'Read from Text' >> beam.io.ReadFromText(\"gs://mcule-storage/sample.csv\")\n",
    "       | 'Parse Building Blocks' >> beam.ParDo(Split()).with_outputs(\n",
    "                              Split.OUTPUT_TAG_R1,\n",
    "                              Split.OUTPUT_TAG_R2,\n",
    "                              Split.OUTPUT_TAG_R3)\n",
    "      )\n",
    "\n",
    "# label the pcollections according to how they've been tagged\n",
    "\n",
    "R1 = csv[Split.OUTPUT_TAG_R1]\n",
    "R2 = csv[Split.OUTPUT_TAG_R2]\n",
    "R3 = csv[Split.OUTPUT_TAG_R3]\n",
    "\n",
    "# assumption: the reaction will always contain at least two reactants (though we can adjust the code if needed)\n",
    "\n",
    "R1_R2 = (\n",
    "     R1\n",
    "     | \"ApplyCrossJoin\" >> beam.FlatMap(cross_join, rights=beam.pvalue.AsList(R2))\n",
    " )\n",
    "\n",
    "# create the reactants list\n",
    "# notice the cross join here takes an input run_step which determines whether to apply the cross_join_3way function\n",
    "# or just act as a passthrough\n",
    "\n",
    "reactants = (\n",
    "    R1_R2\n",
    "    | \"ApplyCrossJoin3way\" >> beam.FlatMap(cross_join_3way, rights=beam.pvalue.AsList(R3), run_step=run_third_step)\n",
    ")\n"
   ]
  },
  {
   "cell_type": "code",
   "execution_count": 10,
   "id": "4cc6ce7d-ee14-4515-ba3e-4b374a748bf2",
   "metadata": {},
   "outputs": [
    {
     "data": {
      "text/html": [
       "\n",
       "            <link rel=\"stylesheet\" href=\"https://stackpath.bootstrapcdn.com/bootstrap/4.4.1/css/bootstrap.min.css\" integrity=\"sha384-Vkoo8x4CGsO3+Hhxv8T/Q5PaXtkKtu6ug5TOeNV6gBiFeWPGFN9MuhOf23Q9Ifjh\" crossorigin=\"anonymous\">\n",
       "            <div id=\"progress_indicator_a78e3ffa4e62c6259db16e8bfd319c4c\">\n",
       "              <div class=\"spinner-border text-info\" role=\"status\"></div>\n",
       "              <span class=\"text-info\">Processing... show_graph</span>\n",
       "            </div>\n",
       "            "
      ],
      "text/plain": [
       "<IPython.core.display.HTML object>"
      ]
     },
     "metadata": {},
     "output_type": "display_data"
    },
    {
     "name": "stdout",
     "output_type": "stream",
     "text": [
      "/usr/bin/dot\n"
     ]
    },
    {
     "data": {
      "text/html": [
       "<?xml version=\"1.0\" encoding=\"UTF-8\" standalone=\"no\"?>\n",
       "<!DOCTYPE svg PUBLIC \"-//W3C//DTD SVG 1.1//EN\"\n",
       " \"http://www.w3.org/Graphics/SVG/1.1/DTD/svg11.dtd\">\n",
       "<!-- Generated by graphviz version 2.43.0 (0)\n",
       " -->\n",
       "<!-- Title: G Pages: 1 -->\n",
       "<svg width=\"276pt\" height=\"687pt\"\n",
       " viewBox=\"0.00 0.00 275.50 687.37\" xmlns=\"http://www.w3.org/2000/svg\" xmlns:xlink=\"http://www.w3.org/1999/xlink\">\n",
       "<g id=\"graph0\" class=\"graph\" transform=\"scale(1 1) rotate(0) translate(4 683.37)\">\n",
       "<title>G</title>\n",
       "<polygon fill=\"white\" stroke=\"transparent\" points=\"-4,4 -4,-683.37 271.5,-683.37 271.5,4 -4,4\"/>\n",
       "<!-- [9]: Read from Text -->\n",
       "<g id=\"node1\" class=\"node\">\n",
       "<title>[9]: Read from Text</title>\n",
       "<polygon fill=\"none\" stroke=\"blue\" points=\"177.5,-679.37 22.5,-679.37 22.5,-643.37 177.5,-643.37 177.5,-679.37\"/>\n",
       "<text text-anchor=\"middle\" x=\"100\" y=\"-657.67\" font-family=\"Times,serif\" font-size=\"14.00\" fill=\"blue\">[9]: Read from Text</text>\n",
       "</g>\n",
       "<!-- pcoll3385 -->\n",
       "<g id=\"node2\" class=\"node\">\n",
       "<title>pcoll3385</title>\n",
       "<ellipse fill=\"none\" stroke=\"blue\" cx=\"100\" cy=\"-589.37\" rx=\"18\" ry=\"18\"/>\n",
       "</g>\n",
       "<!-- [9]: Read from Text&#45;&gt;pcoll3385 -->\n",
       "<g id=\"edge1\" class=\"edge\">\n",
       "<title>[9]: Read from Text&#45;&gt;pcoll3385</title>\n",
       "<path fill=\"none\" stroke=\"black\" d=\"M100,-643.07C100,-635.36 100,-626.09 100,-617.49\"/>\n",
       "<polygon fill=\"black\" stroke=\"black\" points=\"103.5,-617.48 100,-607.48 96.5,-617.48 103.5,-617.48\"/>\n",
       "</g>\n",
       "<!-- [9]: Parse Building Blocks -->\n",
       "<g id=\"node3\" class=\"node\">\n",
       "<title>[9]: Parse Building Blocks</title>\n",
       "<polygon fill=\"none\" stroke=\"blue\" points=\"200,-535.37 0,-535.37 0,-499.37 200,-499.37 200,-535.37\"/>\n",
       "<text text-anchor=\"middle\" x=\"100\" y=\"-513.67\" font-family=\"Times,serif\" font-size=\"14.00\" fill=\"blue\">[9]: Parse Building Blocks</text>\n",
       "</g>\n",
       "<!-- pcoll3385&#45;&gt;[9]: Parse Building Blocks -->\n",
       "<g id=\"edge2\" class=\"edge\">\n",
       "<title>pcoll3385&#45;&gt;[9]: Parse Building Blocks</title>\n",
       "<path fill=\"none\" stroke=\"black\" d=\"M100,-571.07C100,-563.36 100,-554.09 100,-545.49\"/>\n",
       "<polygon fill=\"black\" stroke=\"black\" points=\"103.5,-545.48 100,-535.48 96.5,-545.48 103.5,-545.48\"/>\n",
       "</g>\n",
       "<!-- pcoll4388 -->\n",
       "<g id=\"node4\" class=\"node\">\n",
       "<title>pcoll4388</title>\n",
       "<ellipse fill=\"none\" stroke=\"blue\" cx=\"29\" cy=\"-439.98\" rx=\"18\" ry=\"18\"/>\n",
       "</g>\n",
       "<!-- [9]: Parse Building Blocks&#45;&gt;pcoll4388 -->\n",
       "<g id=\"edge3\" class=\"edge\">\n",
       "<title>[9]: Parse Building Blocks&#45;&gt;pcoll4388</title>\n",
       "<path fill=\"none\" stroke=\"black\" d=\"M83.89,-499.27C73.15,-487.86 58.99,-472.83 47.75,-460.89\"/>\n",
       "<polygon fill=\"black\" stroke=\"black\" points=\"50.25,-458.44 40.84,-453.55 45.15,-463.23 50.25,-458.44\"/>\n",
       "</g>\n",
       "<!-- R3 -->\n",
       "<g id=\"node5\" class=\"node\">\n",
       "<title>R3</title>\n",
       "<ellipse fill=\"none\" stroke=\"blue\" cx=\"73\" cy=\"-357.18\" rx=\"23.3\" ry=\"23.3\"/>\n",
       "<text text-anchor=\"middle\" x=\"73\" y=\"-353.48\" font-family=\"Times,serif\" font-size=\"14.00\" fill=\"blue\">R3</text>\n",
       "</g>\n",
       "<!-- [9]: Parse Building Blocks&#45;&gt;R3 -->\n",
       "<g id=\"edge4\" class=\"edge\">\n",
       "<title>[9]: Parse Building Blocks&#45;&gt;R3</title>\n",
       "<path fill=\"none\" stroke=\"black\" d=\"M97.06,-499.14C92.62,-473.13 84.13,-423.38 78.51,-390.49\"/>\n",
       "<polygon fill=\"black\" stroke=\"black\" points=\"81.93,-389.72 76.8,-380.45 75.03,-390.9 81.93,-389.72\"/>\n",
       "</g>\n",
       "<!-- R2 -->\n",
       "<g id=\"node6\" class=\"node\">\n",
       "<title>R2</title>\n",
       "<ellipse fill=\"none\" stroke=\"blue\" cx=\"126\" cy=\"-439.98\" rx=\"23.3\" ry=\"23.3\"/>\n",
       "<text text-anchor=\"middle\" x=\"126\" y=\"-436.28\" font-family=\"Times,serif\" font-size=\"14.00\" fill=\"blue\">R2</text>\n",
       "</g>\n",
       "<!-- [9]: Parse Building Blocks&#45;&gt;R2 -->\n",
       "<g id=\"edge6\" class=\"edge\">\n",
       "<title>[9]: Parse Building Blocks&#45;&gt;R2</title>\n",
       "<path fill=\"none\" stroke=\"black\" d=\"M105.9,-499.27C108.7,-491.14 112.14,-481.17 115.37,-471.79\"/>\n",
       "<polygon fill=\"black\" stroke=\"black\" points=\"118.68,-472.93 118.64,-462.33 112.07,-470.65 118.68,-472.93\"/>\n",
       "</g>\n",
       "<!-- R1 -->\n",
       "<g id=\"node7\" class=\"node\">\n",
       "<title>R1</title>\n",
       "<ellipse fill=\"none\" stroke=\"blue\" cx=\"191\" cy=\"-439.98\" rx=\"23.3\" ry=\"23.3\"/>\n",
       "<text text-anchor=\"middle\" x=\"191\" y=\"-436.28\" font-family=\"Times,serif\" font-size=\"14.00\" fill=\"blue\">R1</text>\n",
       "</g>\n",
       "<!-- [9]: Parse Building Blocks&#45;&gt;R1 -->\n",
       "<g id=\"edge8\" class=\"edge\">\n",
       "<title>[9]: Parse Building Blocks&#45;&gt;R1</title>\n",
       "<path fill=\"none\" stroke=\"black\" d=\"M120.65,-499.27C133.89,-488.3 151.17,-473.97 165.3,-462.27\"/>\n",
       "<polygon fill=\"black\" stroke=\"black\" points=\"167.73,-464.8 173.2,-455.73 163.26,-459.41 167.73,-464.8\"/>\n",
       "</g>\n",
       "<!-- [9]: ApplyCrossJoin3way -->\n",
       "<g id=\"node10\" class=\"node\">\n",
       "<title>[9]: ApplyCrossJoin3way</title>\n",
       "<polygon fill=\"none\" stroke=\"blue\" points=\"227.5,-181.19 36.5,-181.19 36.5,-145.19 227.5,-145.19 227.5,-181.19\"/>\n",
       "<text text-anchor=\"middle\" x=\"132\" y=\"-159.49\" font-family=\"Times,serif\" font-size=\"14.00\" fill=\"blue\">[9]: ApplyCrossJoin3way</text>\n",
       "</g>\n",
       "<!-- R3&#45;&gt;[9]: ApplyCrossJoin3way -->\n",
       "<g id=\"edge5\" class=\"edge\">\n",
       "<title>R3&#45;&gt;[9]: ApplyCrossJoin3way</title>\n",
       "<path fill=\"none\" stroke=\"black\" d=\"M79.65,-334.53C90.48,-299.3 111.88,-229.66 123.69,-191.23\"/>\n",
       "<polygon fill=\"black\" stroke=\"black\" points=\"127.16,-191.86 126.75,-181.27 120.47,-189.8 127.16,-191.86\"/>\n",
       "</g>\n",
       "<!-- [9]: ApplyCrossJoin -->\n",
       "<g id=\"node8\" class=\"node\">\n",
       "<title>[9]: ApplyCrossJoin</title>\n",
       "<polygon fill=\"none\" stroke=\"blue\" points=\"267.5,-375.18 114.5,-375.18 114.5,-339.18 267.5,-339.18 267.5,-375.18\"/>\n",
       "<text text-anchor=\"middle\" x=\"191\" y=\"-353.48\" font-family=\"Times,serif\" font-size=\"14.00\" fill=\"blue\">[9]: ApplyCrossJoin</text>\n",
       "</g>\n",
       "<!-- R2&#45;&gt;[9]: ApplyCrossJoin -->\n",
       "<g id=\"edge7\" class=\"edge\">\n",
       "<title>R2&#45;&gt;[9]: ApplyCrossJoin</title>\n",
       "<path fill=\"none\" stroke=\"black\" d=\"M140.43,-421.05C149.36,-409.94 160.97,-395.51 170.81,-383.28\"/>\n",
       "<polygon fill=\"black\" stroke=\"black\" points=\"173.74,-385.22 177.28,-375.23 168.29,-380.83 173.74,-385.22\"/>\n",
       "</g>\n",
       "<!-- R1&#45;&gt;[9]: ApplyCrossJoin -->\n",
       "<g id=\"edge9\" class=\"edge\">\n",
       "<title>R1&#45;&gt;[9]: ApplyCrossJoin</title>\n",
       "<path fill=\"none\" stroke=\"black\" d=\"M191,-416.47C191,-406.87 191,-395.58 191,-385.5\"/>\n",
       "<polygon fill=\"black\" stroke=\"black\" points=\"194.5,-385.19 191,-375.19 187.5,-385.19 194.5,-385.19\"/>\n",
       "</g>\n",
       "<!-- R1_R2 -->\n",
       "<g id=\"node9\" class=\"node\">\n",
       "<title>R1_R2</title>\n",
       "<ellipse fill=\"none\" stroke=\"blue\" cx=\"178\" cy=\"-257.49\" rx=\"40.09\" ry=\"40.09\"/>\n",
       "<text text-anchor=\"middle\" x=\"178\" y=\"-253.79\" font-family=\"Times,serif\" font-size=\"14.00\" fill=\"blue\">R1_R2</text>\n",
       "</g>\n",
       "<!-- [9]: ApplyCrossJoin&#45;&gt;R1_R2 -->\n",
       "<g id=\"edge10\" class=\"edge\">\n",
       "<title>[9]: ApplyCrossJoin&#45;&gt;R1_R2</title>\n",
       "<path fill=\"none\" stroke=\"black\" d=\"M188.74,-339.16C187.55,-330.28 186.04,-318.92 184.53,-307.54\"/>\n",
       "<polygon fill=\"black\" stroke=\"black\" points=\"187.99,-307.05 183.2,-297.6 181.05,-307.97 187.99,-307.05\"/>\n",
       "</g>\n",
       "<!-- R1_R2&#45;&gt;[9]: ApplyCrossJoin3way -->\n",
       "<g id=\"edge11\" class=\"edge\">\n",
       "<title>R1_R2&#45;&gt;[9]: ApplyCrossJoin3way</title>\n",
       "<path fill=\"none\" stroke=\"black\" d=\"M160.35,-221.07C155.25,-210.85 149.79,-199.89 145.03,-190.34\"/>\n",
       "<polygon fill=\"black\" stroke=\"black\" points=\"148.14,-188.74 140.55,-181.35 141.88,-191.86 148.14,-188.74\"/>\n",
       "</g>\n",
       "<!-- reactants -->\n",
       "<g id=\"node11\" class=\"node\">\n",
       "<title>reactants</title>\n",
       "<ellipse fill=\"none\" stroke=\"blue\" cx=\"132\" cy=\"-54.6\" rx=\"54.69\" ry=\"54.69\"/>\n",
       "<text text-anchor=\"middle\" x=\"132\" y=\"-50.9\" font-family=\"Times,serif\" font-size=\"14.00\" fill=\"blue\">reactants</text>\n",
       "</g>\n",
       "<!-- [9]: ApplyCrossJoin3way&#45;&gt;reactants -->\n",
       "<g id=\"edge12\" class=\"edge\">\n",
       "<title>[9]: ApplyCrossJoin3way&#45;&gt;reactants</title>\n",
       "<path fill=\"none\" stroke=\"black\" d=\"M132,-145.06C132,-137.89 132,-129.06 132,-119.77\"/>\n",
       "<polygon fill=\"black\" stroke=\"black\" points=\"135.5,-119.56 132,-109.56 128.5,-119.56 135.5,-119.56\"/>\n",
       "</g>\n",
       "</g>\n",
       "</svg>\n"
      ],
      "text/plain": [
       "<IPython.core.display.HTML object>"
      ]
     },
     "metadata": {},
     "output_type": "display_data"
    },
    {
     "data": {
      "application/javascript": [
       "\n",
       "        if (typeof window.interactive_beam_jquery == 'undefined') {\n",
       "          var jqueryScript = document.createElement('script');\n",
       "          jqueryScript.src = 'https://code.jquery.com/jquery-3.4.1.slim.min.js';\n",
       "          jqueryScript.type = 'text/javascript';\n",
       "          jqueryScript.onload = function() {\n",
       "            var datatableScript = document.createElement('script');\n",
       "            datatableScript.src = 'https://cdn.datatables.net/1.10.20/js/jquery.dataTables.min.js';\n",
       "            datatableScript.type = 'text/javascript';\n",
       "            datatableScript.onload = function() {\n",
       "              window.interactive_beam_jquery = jQuery.noConflict(true);\n",
       "              window.interactive_beam_jquery(document).ready(function($){\n",
       "                \n",
       "            $(\"#progress_indicator_a78e3ffa4e62c6259db16e8bfd319c4c\").remove();\n",
       "              });\n",
       "            }\n",
       "            document.head.appendChild(datatableScript);\n",
       "          };\n",
       "          document.head.appendChild(jqueryScript);\n",
       "        } else {\n",
       "          window.interactive_beam_jquery(document).ready(function($){\n",
       "            \n",
       "            $(\"#progress_indicator_a78e3ffa4e62c6259db16e8bfd319c4c\").remove();\n",
       "          });\n",
       "        }"
      ]
     },
     "metadata": {},
     "output_type": "display_data"
    }
   ],
   "source": [
    "ib.show_graph(p)"
   ]
  },
  {
   "cell_type": "code",
   "execution_count": 11,
   "id": "6b10f970-a462-4ae3-9f86-7e47e05df1c5",
   "metadata": {},
   "outputs": [
    {
     "data": {
      "text/html": [
       "\n",
       "            <link rel=\"stylesheet\" href=\"https://stackpath.bootstrapcdn.com/bootstrap/4.4.1/css/bootstrap.min.css\" integrity=\"sha384-Vkoo8x4CGsO3+Hhxv8T/Q5PaXtkKtu6ug5TOeNV6gBiFeWPGFN9MuhOf23Q9Ifjh\" crossorigin=\"anonymous\">\n",
       "            <div id=\"progress_indicator_e8786866ec57f4e8e4cd416d1b1197c8\">\n",
       "              <div class=\"spinner-border text-info\" role=\"status\"></div>\n",
       "              <span class=\"text-info\">Processing... show</span>\n",
       "            </div>\n",
       "            "
      ],
      "text/plain": [
       "<IPython.core.display.HTML object>"
      ]
     },
     "metadata": {},
     "output_type": "display_data"
    },
    {
     "data": {
      "text/html": [
       "\n",
       "            <style>\n",
       "            .p-Widget.jp-OutputPrompt.jp-OutputArea-prompt:empty {\n",
       "              padding: 0;\n",
       "              border: 0;\n",
       "            }\n",
       "            .p-Widget.jp-RenderedJavaScript.jp-mod-trusted.jp-OutputArea-output:empty {\n",
       "              padding: 0;\n",
       "              border: 0;\n",
       "            }\n",
       "            </style>\n",
       "            <link rel=\"stylesheet\" href=\"https://cdn.datatables.net/1.10.20/css/jquery.dataTables.min.css\">\n",
       "            <table id=\"table_df_f7f6f1fb1af932b75a1fbfaa9dc57058\" class=\"display\" style=\"display:block\"></table>\n",
       "            <script>\n",
       "              \n",
       "        if (typeof window.interactive_beam_jquery == 'undefined') {\n",
       "          var jqueryScript = document.createElement('script');\n",
       "          jqueryScript.src = 'https://code.jquery.com/jquery-3.4.1.slim.min.js';\n",
       "          jqueryScript.type = 'text/javascript';\n",
       "          jqueryScript.onload = function() {\n",
       "            var datatableScript = document.createElement('script');\n",
       "            datatableScript.src = 'https://cdn.datatables.net/1.10.20/js/jquery.dataTables.min.js';\n",
       "            datatableScript.type = 'text/javascript';\n",
       "            datatableScript.onload = function() {\n",
       "              window.interactive_beam_jquery = jQuery.noConflict(true);\n",
       "              window.interactive_beam_jquery(document).ready(function($){\n",
       "                \n",
       "            var dt;\n",
       "            if ($.fn.dataTable.isDataTable(\"#table_df_f7f6f1fb1af932b75a1fbfaa9dc57058\")) {\n",
       "              dt = $(\"#table_df_f7f6f1fb1af932b75a1fbfaa9dc57058\").dataTable();\n",
       "            } else if ($(\"#table_df_f7f6f1fb1af932b75a1fbfaa9dc57058_wrapper\").length == 0) {\n",
       "              dt = $(\"#table_df_f7f6f1fb1af932b75a1fbfaa9dc57058\").dataTable({\n",
       "                \n",
       "            bAutoWidth: false,\n",
       "            columns: [{'title': ''}, {'title': 'reactants.0'}, {'title': 'reactants.1'}, {'title': 'reactants.2'}],\n",
       "            destroy: true,\n",
       "            responsive: true,\n",
       "            columnDefs: [\n",
       "              {\n",
       "                targets: \"_all\",\n",
       "                className: \"dt-left\"\n",
       "              },\n",
       "              {\n",
       "                \"targets\": 0,\n",
       "                \"width\": \"10px\",\n",
       "                \"title\": \"\"\n",
       "              }\n",
       "            ]\n",
       "              });\n",
       "            } else {\n",
       "              return;\n",
       "            }\n",
       "            dt.api()\n",
       "              .clear()\n",
       "              .rows.add([{1: 'C1CCCC1', 2: 'C1CCCC1', 3: 'CC1C=CC=CC=1', 0: 0}, {1: 'C1CCCC1', 2: 'C1CCCCC1', 3: 'CC1C=CC=CC=1', 0: 1}, {1: 'C1CCCC1', 2: 'CC1C=CC=CC=1', 3: 'CC1C=CC=CC=1', 0: 2}, {1: 'C1CCCC1', 2: 'CC1C(C)=CC=CC=1', 3: 'CC1C=CC=CC=1', 0: 3}, {1: 'C1CCCC1', 2: 'CC1C=C(C)C=CC=1', 3: 'CC1C=CC=CC=1', 0: 4}, {1: 'C1C=CC=CC=1', 2: 'C1CCCC1', 3: 'CC1C=CC=CC=1', 0: 5}, {1: 'C1C=CC=CC=1', 2: 'C1CCCCC1', 3: 'CC1C=CC=CC=1', 0: 6}, {1: 'C1C=CC=CC=1', 2: 'CC1C=CC=CC=1', 3: 'CC1C=CC=CC=1', 0: 7}, {1: 'C1C=CC=CC=1', 2: 'CC1C(C)=CC=CC=1', 3: 'CC1C=CC=CC=1', 0: 8}, {1: 'C1C=CC=CC=1', 2: 'CC1C=C(C)C=CC=1', 3: 'CC1C=CC=CC=1', 0: 9}, {1: 'C1CCCCC1', 2: 'C1CCCC1', 3: 'CC1C=CC=CC=1', 0: 10}, {1: 'C1CCCCC1', 2: 'C1CCCCC1', 3: 'CC1C=CC=CC=1', 0: 11}, {1: 'C1CCCCC1', 2: 'CC1C=CC=CC=1', 3: 'CC1C=CC=CC=1', 0: 12}, {1: 'C1CCCCC1', 2: 'CC1C(C)=CC=CC=1', 3: 'CC1C=CC=CC=1', 0: 13}, {1: 'C1CCCCC1', 2: 'CC1C=C(C)C=CC=1', 3: 'CC1C=CC=CC=1', 0: 14}, {1: 'CC1C=C(C)C=CC=1', 2: 'C1CCCC1', 3: 'CC1C=CC=CC=1', 0: 15}, {1: 'CC1C=C(C)C=CC=1', 2: 'C1CCCCC1', 3: 'CC1C=CC=CC=1', 0: 16}, {1: 'CC1C=C(C)C=CC=1', 2: 'CC1C=CC=CC=1', 3: 'CC1C=CC=CC=1', 0: 17}, {1: 'CC1C=C(C)C=CC=1', 2: 'CC1C(C)=CC=CC=1', 3: 'CC1C=CC=CC=1', 0: 18}, {1: 'CC1C=C(C)C=CC=1', 2: 'CC1C=C(C)C=CC=1', 3: 'CC1C=CC=CC=1', 0: 19}])\n",
       "              .draw('full-hold');\n",
       "              });\n",
       "            }\n",
       "            document.head.appendChild(datatableScript);\n",
       "          };\n",
       "          document.head.appendChild(jqueryScript);\n",
       "        } else {\n",
       "          window.interactive_beam_jquery(document).ready(function($){\n",
       "            \n",
       "            var dt;\n",
       "            if ($.fn.dataTable.isDataTable(\"#table_df_f7f6f1fb1af932b75a1fbfaa9dc57058\")) {\n",
       "              dt = $(\"#table_df_f7f6f1fb1af932b75a1fbfaa9dc57058\").dataTable();\n",
       "            } else if ($(\"#table_df_f7f6f1fb1af932b75a1fbfaa9dc57058_wrapper\").length == 0) {\n",
       "              dt = $(\"#table_df_f7f6f1fb1af932b75a1fbfaa9dc57058\").dataTable({\n",
       "                \n",
       "            bAutoWidth: false,\n",
       "            columns: [{'title': ''}, {'title': 'reactants.0'}, {'title': 'reactants.1'}, {'title': 'reactants.2'}],\n",
       "            destroy: true,\n",
       "            responsive: true,\n",
       "            columnDefs: [\n",
       "              {\n",
       "                targets: \"_all\",\n",
       "                className: \"dt-left\"\n",
       "              },\n",
       "              {\n",
       "                \"targets\": 0,\n",
       "                \"width\": \"10px\",\n",
       "                \"title\": \"\"\n",
       "              }\n",
       "            ]\n",
       "              });\n",
       "            } else {\n",
       "              return;\n",
       "            }\n",
       "            dt.api()\n",
       "              .clear()\n",
       "              .rows.add([{1: 'C1CCCC1', 2: 'C1CCCC1', 3: 'CC1C=CC=CC=1', 0: 0}, {1: 'C1CCCC1', 2: 'C1CCCCC1', 3: 'CC1C=CC=CC=1', 0: 1}, {1: 'C1CCCC1', 2: 'CC1C=CC=CC=1', 3: 'CC1C=CC=CC=1', 0: 2}, {1: 'C1CCCC1', 2: 'CC1C(C)=CC=CC=1', 3: 'CC1C=CC=CC=1', 0: 3}, {1: 'C1CCCC1', 2: 'CC1C=C(C)C=CC=1', 3: 'CC1C=CC=CC=1', 0: 4}, {1: 'C1C=CC=CC=1', 2: 'C1CCCC1', 3: 'CC1C=CC=CC=1', 0: 5}, {1: 'C1C=CC=CC=1', 2: 'C1CCCCC1', 3: 'CC1C=CC=CC=1', 0: 6}, {1: 'C1C=CC=CC=1', 2: 'CC1C=CC=CC=1', 3: 'CC1C=CC=CC=1', 0: 7}, {1: 'C1C=CC=CC=1', 2: 'CC1C(C)=CC=CC=1', 3: 'CC1C=CC=CC=1', 0: 8}, {1: 'C1C=CC=CC=1', 2: 'CC1C=C(C)C=CC=1', 3: 'CC1C=CC=CC=1', 0: 9}, {1: 'C1CCCCC1', 2: 'C1CCCC1', 3: 'CC1C=CC=CC=1', 0: 10}, {1: 'C1CCCCC1', 2: 'C1CCCCC1', 3: 'CC1C=CC=CC=1', 0: 11}, {1: 'C1CCCCC1', 2: 'CC1C=CC=CC=1', 3: 'CC1C=CC=CC=1', 0: 12}, {1: 'C1CCCCC1', 2: 'CC1C(C)=CC=CC=1', 3: 'CC1C=CC=CC=1', 0: 13}, {1: 'C1CCCCC1', 2: 'CC1C=C(C)C=CC=1', 3: 'CC1C=CC=CC=1', 0: 14}, {1: 'CC1C=C(C)C=CC=1', 2: 'C1CCCC1', 3: 'CC1C=CC=CC=1', 0: 15}, {1: 'CC1C=C(C)C=CC=1', 2: 'C1CCCCC1', 3: 'CC1C=CC=CC=1', 0: 16}, {1: 'CC1C=C(C)C=CC=1', 2: 'CC1C=CC=CC=1', 3: 'CC1C=CC=CC=1', 0: 17}, {1: 'CC1C=C(C)C=CC=1', 2: 'CC1C(C)=CC=CC=1', 3: 'CC1C=CC=CC=1', 0: 18}, {1: 'CC1C=C(C)C=CC=1', 2: 'CC1C=C(C)C=CC=1', 3: 'CC1C=CC=CC=1', 0: 19}])\n",
       "              .draw('full-hold');\n",
       "          });\n",
       "        }\n",
       "            </script>"
      ],
      "text/plain": [
       "<IPython.core.display.HTML object>"
      ]
     },
     "metadata": {},
     "output_type": "display_data"
    },
    {
     "data": {
      "application/javascript": [
       "\n",
       "        if (typeof window.interactive_beam_jquery == 'undefined') {\n",
       "          var jqueryScript = document.createElement('script');\n",
       "          jqueryScript.src = 'https://code.jquery.com/jquery-3.4.1.slim.min.js';\n",
       "          jqueryScript.type = 'text/javascript';\n",
       "          jqueryScript.onload = function() {\n",
       "            var datatableScript = document.createElement('script');\n",
       "            datatableScript.src = 'https://cdn.datatables.net/1.10.20/js/jquery.dataTables.min.js';\n",
       "            datatableScript.type = 'text/javascript';\n",
       "            datatableScript.onload = function() {\n",
       "              window.interactive_beam_jquery = jQuery.noConflict(true);\n",
       "              window.interactive_beam_jquery(document).ready(function($){\n",
       "                \n",
       "            $(\"#progress_indicator_e8786866ec57f4e8e4cd416d1b1197c8\").remove();\n",
       "              });\n",
       "            }\n",
       "            document.head.appendChild(datatableScript);\n",
       "          };\n",
       "          document.head.appendChild(jqueryScript);\n",
       "        } else {\n",
       "          window.interactive_beam_jquery(document).ready(function($){\n",
       "            \n",
       "            $(\"#progress_indicator_e8786866ec57f4e8e4cd416d1b1197c8\").remove();\n",
       "          });\n",
       "        }"
      ]
     },
     "metadata": {},
     "output_type": "display_data"
    }
   ],
   "source": [
    "ib.show(reactants)"
   ]
  },
  {
   "cell_type": "markdown",
   "id": "57d92293-4481-4aeb-bb96-398c531a7162",
   "metadata": {},
   "source": [
    "Now reactants is a PCollection that can be passed along to the the next step of the pipeline. "
   ]
  },
  {
   "cell_type": "code",
   "execution_count": null,
   "id": "77facce1-2740-4b10-a2fe-80c492dbc849",
   "metadata": {},
   "outputs": [],
   "source": []
  }
 ],
 "metadata": {
  "kernelspec": {
   "display_name": "01. Apache Beam 2.42.0 for Python 3",
   "language": "python",
   "name": "01-apache-beam-2.42.0"
  },
  "language_info": {
   "codemirror_mode": {
    "name": "ipython",
    "version": 3
   },
   "file_extension": ".py",
   "mimetype": "text/x-python",
   "name": "python",
   "nbconvert_exporter": "python",
   "pygments_lexer": "ipython3",
   "version": "3.7.12"
  }
 },
 "nbformat": 4,
 "nbformat_minor": 5
}
