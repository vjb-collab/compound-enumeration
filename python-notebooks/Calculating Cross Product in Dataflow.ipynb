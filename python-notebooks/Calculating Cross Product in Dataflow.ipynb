{
 "cells": [
  {
   "cell_type": "markdown",
   "id": "136d138c-08d0-401f-b541-e0155ab1c3bf",
   "metadata": {},
   "source": [
    "# Example of the CSV file that gets loaded to Cloud Storage before calling Dataflow"
   ]
  },
  {
   "cell_type": "markdown",
   "id": "be360d42-ad84-4cbf-9df0-9ff58269e82c",
   "metadata": {},
   "source": [
    "We create a CSV file with the building blocks and the possible positions that each block can occupy. Note: I am using a pipe as the delimiter. If a SMILES string can have a pipe in it, we need to pick another character."
   ]
  },
  {
   "cell_type": "markdown",
   "id": "4f67b3fc-f99c-45e6-a5ed-2e58e6d42a05",
   "metadata": {},
   "source": [
    "C1CCCC1|1,2 <br>\n",
    "C1C=CC=CC=1|1 <br>\n",
    "C1CCCCC1|1,2 <br>\n",
    "CC1C=CC=CC=1|2,3 <br>\n",
    "CC1C(C)=CC=CC=1|2 <br>\n",
    "CC1C=C(C)C=CC=1|1,2 <br>"
   ]
  },
  {
   "cell_type": "markdown",
   "id": "da0d6c76-d8f8-4445-92e5-f79d5a48a47b",
   "metadata": {
    "tags": []
   },
   "source": [
    "# Querying Cloud Storage for Building Blocks and Creating all possible combinations"
   ]
  },
  {
   "cell_type": "markdown",
   "id": "149fb104-a433-4e5b-9c8d-793813160fa2",
   "metadata": {},
   "source": [
    "Make sure the Dataflow API is enabled"
   ]
  },
  {
   "cell_type": "code",
   "execution_count": 1,
   "id": "9f5b6ee9-ce00-4063-a9f6-304a1b6d3351",
   "metadata": {},
   "outputs": [
    {
     "name": "stdout",
     "output_type": "stream",
     "text": [
      "/bin/bash: /opt/conda/lib/libtinfo.so.6: no version information available (required by /bin/bash)\n"
     ]
    }
   ],
   "source": [
    "!gcloud services enable dataflow"
   ]
  },
  {
   "cell_type": "code",
   "execution_count": 2,
   "id": "f825823c-82de-4dc1-982b-9cc98c58d65b",
   "metadata": {},
   "outputs": [],
   "source": [
    "import apache_beam as beam\n",
    "from apache_beam.options import pipeline_options\n",
    "from apache_beam.options.pipeline_options import GoogleCloudOptions\n",
    "from apache_beam.runners import DataflowRunner\n",
    "from apache_beam.runners.interactive.interactive_runner import InteractiveRunner\n",
    "import apache_beam.runners.interactive.interactive_beam as ib\n",
    "from apache_beam import pvalue\n",
    "import google.auth"
   ]
  },
  {
   "cell_type": "code",
   "execution_count": 3,
   "id": "89136f11-87a6-4924-9d1f-cd0293189085",
   "metadata": {},
   "outputs": [],
   "source": [
    "options = {\n",
    "    'project': 'compound-enumeration',\n",
    "    'temp_location' : 'gs://compound-enumeration-dataflow-temp'\n",
    "}"
   ]
  },
  {
   "cell_type": "code",
   "execution_count": 4,
   "id": "73e08ac3-4110-459e-bd47-8c36ef120642",
   "metadata": {},
   "outputs": [],
   "source": [
    "options = pipeline_options.PipelineOptions(flags=[], **options)"
   ]
  },
  {
   "cell_type": "code",
   "execution_count": 5,
   "id": "d365ad42-1a10-43f2-b584-b5cd5ef57dac",
   "metadata": {},
   "outputs": [],
   "source": [
    "p = beam.Pipeline(InteractiveRunner(), options)"
   ]
  },
  {
   "cell_type": "markdown",
   "id": "05fe387e-54ca-4582-a7cf-5df5ec987263",
   "metadata": {},
   "source": [
    "Below, we need to set whether or not this is reaction involves three reactants. We should already know this when we create the original CSV file. We can do the same thing for 4-way, 5-way, reactions, if necessary. We'll use this flag to tell some of the cross joins whether to do work or just act as pass throughs"
   ]
  },
  {
   "cell_type": "code",
   "execution_count": 6,
   "id": "fa76b163-72c3-4b73-b9cd-3fc5998e188f",
   "metadata": {},
   "outputs": [],
   "source": [
    "## this can be determined when you are creating the csv file\n",
    "## is this a trinary reaction?\n",
    "run_third_step = True"
   ]
  },
  {
   "cell_type": "code",
   "execution_count": 7,
   "id": "509aa249-3d2d-479a-8ec1-6db7c6043bba",
   "metadata": {},
   "outputs": [],
   "source": [
    "# this is the side input method\n",
    "# the list of building blocks are passed as iterables\n",
    "# and we create all the possible combinations\n",
    "\n",
    "def cross_join(left, rights):\n",
    "    for x in rights:\n",
    "        yield (left, x)\n",
    "\n",
    "def cross_join_3way(left,rights, run_step=False):\n",
    "    if (run_step):\n",
    "        for x in rights:\n",
    "            yield (left[0], left[1], x)\n",
    "    else:\n",
    "        yield(left[0], left[1])"
   ]
  },
  {
   "cell_type": "code",
   "execution_count": 8,
   "id": "1b2da381-9a79-45ce-9848-714459ceea4f",
   "metadata": {},
   "outputs": [],
   "source": [
    "class Split(beam.DoFn):\n",
    "    from apache_beam import pvalue\n",
    "    \n",
    "    # These tags will be used to tag the outputs of this DoFn.\n",
    "    \n",
    "    # In this DoFn we parse each line of the CSV file.\n",
    "    # The first part of the string is the SMILES string.\n",
    "    # The second part is turned into a list that gives the possible positions\n",
    "    # Then we tag each SMILES string to later use in the cross product\n",
    "    # Notice that these are IF statements, not IF-ELSE statements. So a SMILES string\n",
    "    # can be labeled multiple times (as we want)\n",
    "    \n",
    "    # For reactions with more reactants, just generalize this \n",
    "    OUTPUT_TAG_R1 = 'R1'\n",
    "    OUTPUT_TAG_R2 = 'R2'\n",
    "    OUTPUT_TAG_R3 = 'R3'\n",
    "\n",
    "    def process(self, element):\n",
    "        \"\"\"\n",
    "        tags the input as it processes the orignal PCollection\n",
    "        \"\"\"\n",
    "        \n",
    "        parsed_element = element.split('|')\n",
    "        smiles = parsed_element[0]\n",
    "        positions = parsed_element[1].split(',')\n",
    "                \n",
    "        if ('1' in positions):\n",
    "            yield pvalue.TaggedOutput(self.OUTPUT_TAG_R1, smiles)\n",
    "        if ('2' in positions): \n",
    "            yield pvalue.TaggedOutput(self.OUTPUT_TAG_R2, smiles)\n",
    "        if ('3' in positions):\n",
    "            yield pvalue.TaggedOutput(self.OUTPUT_TAG_R3, smiles)\n"
   ]
  },
  {
   "cell_type": "code",
   "execution_count": 9,
   "id": "90784cc9-035d-44a0-aa06-b184785d9d73",
   "metadata": {},
   "outputs": [],
   "source": [
    "# read the CSV file from cloud storage\n",
    "# and tag the building blocks with their possible positions\n",
    "\n",
    "csv = (p\n",
    "       | 'Read from Text' >> beam.io.ReadFromText(\"gs://mcule-storage/sample.csv\")\n",
    "       | 'Parse Building Blocks' >> beam.ParDo(Split()).with_outputs(\n",
    "                              Split.OUTPUT_TAG_R1,\n",
    "                              Split.OUTPUT_TAG_R2,\n",
    "                              Split.OUTPUT_TAG_R3)\n",
    "      )\n",
    "\n",
    "# label the pcollections according to how they've been tagged\n",
    "\n",
    "R1 = csv[Split.OUTPUT_TAG_R1]\n",
    "R2 = csv[Split.OUTPUT_TAG_R2]\n",
    "R3 = csv[Split.OUTPUT_TAG_R3]\n",
    "\n",
    "# assumption: the reaction will always contain at least two reactants (though we can adjust the code if needed)\n",
    "\n",
    "R1_R2 = (\n",
    "     R1\n",
    "     | \"ApplyCrossJoin\" >> beam.FlatMap(cross_join, rights=beam.pvalue.AsIter(R2))\n",
    " )\n",
    "\n",
    "# create the reactants list\n",
    "# notice the cross join here takes an input run_step which determines whether to apply the cross_join_3way function\n",
    "# or just act as a passthrough\n",
    "\n",
    "reactants = (\n",
    "    R1_R2\n",
    "    | \"ApplyCrossJoin3way\" >> beam.FlatMap(cross_join_3way, rights=beam.pvalue.AsIter(R3), run_step=run_third_step)\n",
    ")\n"
   ]
  },
  {
   "cell_type": "code",
   "execution_count": 10,
   "id": "4cc6ce7d-ee14-4515-ba3e-4b374a748bf2",
   "metadata": {},
   "outputs": [
    {
     "data": {
      "text/html": [
       "\n",
       "            <link rel=\"stylesheet\" href=\"https://stackpath.bootstrapcdn.com/bootstrap/4.4.1/css/bootstrap.min.css\" integrity=\"sha384-Vkoo8x4CGsO3+Hhxv8T/Q5PaXtkKtu6ug5TOeNV6gBiFeWPGFN9MuhOf23Q9Ifjh\" crossorigin=\"anonymous\">\n",
       "            <div id=\"progress_indicator_6b9ad1fbda1f7dcb8f8599039edce024\">\n",
       "              <div class=\"spinner-border text-info\" role=\"status\"></div>\n",
       "              <span class=\"text-info\">Processing... show_graph</span>\n",
       "            </div>\n",
       "            "
      ],
      "text/plain": [
       "<IPython.core.display.HTML object>"
      ]
     },
     "metadata": {},
     "output_type": "display_data"
    },
    {
     "name": "stdout",
     "output_type": "stream",
     "text": [
      "/usr/bin/dot\n"
     ]
    },
    {
     "data": {
      "text/html": [
       "<?xml version=\"1.0\" encoding=\"UTF-8\" standalone=\"no\"?>\n",
       "<!DOCTYPE svg PUBLIC \"-//W3C//DTD SVG 1.1//EN\"\n",
       " \"http://www.w3.org/Graphics/SVG/1.1/DTD/svg11.dtd\">\n",
       "<!-- Generated by graphviz version 2.43.0 (0)\n",
       " -->\n",
       "<!-- Title: G Pages: 1 -->\n",
       "<svg width=\"240pt\" height=\"687pt\"\n",
       " viewBox=\"0.00 0.00 239.50 687.37\" xmlns=\"http://www.w3.org/2000/svg\" xmlns:xlink=\"http://www.w3.org/1999/xlink\">\n",
       "<g id=\"graph0\" class=\"graph\" transform=\"scale(1 1) rotate(0) translate(4 683.37)\">\n",
       "<title>G</title>\n",
       "<polygon fill=\"white\" stroke=\"transparent\" points=\"-4,4 -4,-683.37 235.5,-683.37 235.5,4 -4,4\"/>\n",
       "<!-- [9]: Read from Text -->\n",
       "<g id=\"node1\" class=\"node\">\n",
       "<title>[9]: Read from Text</title>\n",
       "<polygon fill=\"none\" stroke=\"blue\" points=\"186.5,-679.37 31.5,-679.37 31.5,-643.37 186.5,-643.37 186.5,-679.37\"/>\n",
       "<text text-anchor=\"middle\" x=\"109\" y=\"-657.67\" font-family=\"Times,serif\" font-size=\"14.00\" fill=\"blue\">[9]: Read from Text</text>\n",
       "</g>\n",
       "<!-- pcoll2403 -->\n",
       "<g id=\"node2\" class=\"node\">\n",
       "<title>pcoll2403</title>\n",
       "<ellipse fill=\"none\" stroke=\"blue\" cx=\"109\" cy=\"-589.37\" rx=\"18\" ry=\"18\"/>\n",
       "</g>\n",
       "<!-- [9]: Read from Text&#45;&gt;pcoll2403 -->\n",
       "<g id=\"edge1\" class=\"edge\">\n",
       "<title>[9]: Read from Text&#45;&gt;pcoll2403</title>\n",
       "<path fill=\"none\" stroke=\"black\" d=\"M109,-643.07C109,-635.36 109,-626.09 109,-617.49\"/>\n",
       "<polygon fill=\"black\" stroke=\"black\" points=\"112.5,-617.48 109,-607.48 105.5,-617.48 112.5,-617.48\"/>\n",
       "</g>\n",
       "<!-- [9]: Parse Building Blocks -->\n",
       "<g id=\"node3\" class=\"node\">\n",
       "<title>[9]: Parse Building Blocks</title>\n",
       "<polygon fill=\"none\" stroke=\"blue\" points=\"209,-535.37 9,-535.37 9,-499.37 209,-499.37 209,-535.37\"/>\n",
       "<text text-anchor=\"middle\" x=\"109\" y=\"-513.67\" font-family=\"Times,serif\" font-size=\"14.00\" fill=\"blue\">[9]: Parse Building Blocks</text>\n",
       "</g>\n",
       "<!-- pcoll2403&#45;&gt;[9]: Parse Building Blocks -->\n",
       "<g id=\"edge2\" class=\"edge\">\n",
       "<title>pcoll2403&#45;&gt;[9]: Parse Building Blocks</title>\n",
       "<path fill=\"none\" stroke=\"black\" d=\"M109,-571.07C109,-563.36 109,-554.09 109,-545.49\"/>\n",
       "<polygon fill=\"black\" stroke=\"black\" points=\"112.5,-545.48 109,-535.48 105.5,-545.48 112.5,-545.48\"/>\n",
       "</g>\n",
       "<!-- pcoll8650 -->\n",
       "<g id=\"node4\" class=\"node\">\n",
       "<title>pcoll8650</title>\n",
       "<ellipse fill=\"none\" stroke=\"blue\" cx=\"18\" cy=\"-439.98\" rx=\"18\" ry=\"18\"/>\n",
       "</g>\n",
       "<!-- [9]: Parse Building Blocks&#45;&gt;pcoll8650 -->\n",
       "<g id=\"edge3\" class=\"edge\">\n",
       "<title>[9]: Parse Building Blocks&#45;&gt;pcoll8650</title>\n",
       "<path fill=\"none\" stroke=\"black\" d=\"M88.24,-499.19C75.72,-488.82 59.44,-475.34 45,-463.37 43.21,-461.89 41.35,-460.35 39.49,-458.81\"/>\n",
       "<polygon fill=\"black\" stroke=\"black\" points=\"41.39,-455.83 31.46,-452.14 36.92,-461.22 41.39,-455.83\"/>\n",
       "</g>\n",
       "<!-- R2 -->\n",
       "<g id=\"node5\" class=\"node\">\n",
       "<title>R2</title>\n",
       "<ellipse fill=\"none\" stroke=\"blue\" cx=\"77\" cy=\"-439.98\" rx=\"23.3\" ry=\"23.3\"/>\n",
       "<text text-anchor=\"middle\" x=\"77\" y=\"-436.28\" font-family=\"Times,serif\" font-size=\"14.00\" fill=\"blue\">R2</text>\n",
       "</g>\n",
       "<!-- [9]: Parse Building Blocks&#45;&gt;R2 -->\n",
       "<g id=\"edge4\" class=\"edge\">\n",
       "<title>[9]: Parse Building Blocks&#45;&gt;R2</title>\n",
       "<path fill=\"none\" stroke=\"black\" d=\"M101.74,-499.27C98.2,-490.92 93.83,-480.64 89.76,-471.05\"/>\n",
       "<polygon fill=\"black\" stroke=\"black\" points=\"92.96,-469.62 85.83,-461.78 86.51,-472.35 92.96,-469.62\"/>\n",
       "</g>\n",
       "<!-- R3 -->\n",
       "<g id=\"node6\" class=\"node\">\n",
       "<title>R3</title>\n",
       "<ellipse fill=\"none\" stroke=\"blue\" cx=\"195\" cy=\"-357.18\" rx=\"23.3\" ry=\"23.3\"/>\n",
       "<text text-anchor=\"middle\" x=\"195\" y=\"-353.48\" font-family=\"Times,serif\" font-size=\"14.00\" fill=\"blue\">R3</text>\n",
       "</g>\n",
       "<!-- [9]: Parse Building Blocks&#45;&gt;R3 -->\n",
       "<g id=\"edge6\" class=\"edge\">\n",
       "<title>[9]: Parse Building Blocks&#45;&gt;R3</title>\n",
       "<path fill=\"none\" stroke=\"black\" d=\"M138.24,-499.14C151.13,-490.08 165.29,-477.85 174,-463.37 187.21,-441.44 192.28,-412.72 194.16,-390.83\"/>\n",
       "<polygon fill=\"black\" stroke=\"black\" points=\"197.66,-390.91 194.84,-380.7 190.67,-390.44 197.66,-390.91\"/>\n",
       "</g>\n",
       "<!-- R1 -->\n",
       "<g id=\"node7\" class=\"node\">\n",
       "<title>R1</title>\n",
       "<ellipse fill=\"none\" stroke=\"blue\" cx=\"142\" cy=\"-439.98\" rx=\"23.3\" ry=\"23.3\"/>\n",
       "<text text-anchor=\"middle\" x=\"142\" y=\"-436.28\" font-family=\"Times,serif\" font-size=\"14.00\" fill=\"blue\">R1</text>\n",
       "</g>\n",
       "<!-- [9]: Parse Building Blocks&#45;&gt;R1 -->\n",
       "<g id=\"edge8\" class=\"edge\">\n",
       "<title>[9]: Parse Building Blocks&#45;&gt;R1</title>\n",
       "<path fill=\"none\" stroke=\"black\" d=\"M116.49,-499.27C120.14,-490.92 124.64,-480.64 128.84,-471.05\"/>\n",
       "<polygon fill=\"black\" stroke=\"black\" points=\"132.09,-472.34 132.9,-461.78 125.68,-469.54 132.09,-472.34\"/>\n",
       "</g>\n",
       "<!-- [9]: ApplyCrossJoin -->\n",
       "<g id=\"node8\" class=\"node\">\n",
       "<title>[9]: ApplyCrossJoin</title>\n",
       "<polygon fill=\"none\" stroke=\"blue\" points=\"153.5,-375.18 0.5,-375.18 0.5,-339.18 153.5,-339.18 153.5,-375.18\"/>\n",
       "<text text-anchor=\"middle\" x=\"77\" y=\"-353.48\" font-family=\"Times,serif\" font-size=\"14.00\" fill=\"blue\">[9]: ApplyCrossJoin</text>\n",
       "</g>\n",
       "<!-- R2&#45;&gt;[9]: ApplyCrossJoin -->\n",
       "<g id=\"edge5\" class=\"edge\">\n",
       "<title>R2&#45;&gt;[9]: ApplyCrossJoin</title>\n",
       "<path fill=\"none\" stroke=\"black\" d=\"M77,-416.47C77,-406.87 77,-395.58 77,-385.5\"/>\n",
       "<polygon fill=\"black\" stroke=\"black\" points=\"80.5,-385.19 77,-375.19 73.5,-385.19 80.5,-385.19\"/>\n",
       "</g>\n",
       "<!-- [9]: ApplyCrossJoin3way -->\n",
       "<g id=\"node10\" class=\"node\">\n",
       "<title>[9]: ApplyCrossJoin3way</title>\n",
       "<polygon fill=\"none\" stroke=\"blue\" points=\"231.5,-181.19 40.5,-181.19 40.5,-145.19 231.5,-145.19 231.5,-181.19\"/>\n",
       "<text text-anchor=\"middle\" x=\"136\" y=\"-159.49\" font-family=\"Times,serif\" font-size=\"14.00\" fill=\"blue\">[9]: ApplyCrossJoin3way</text>\n",
       "</g>\n",
       "<!-- R3&#45;&gt;[9]: ApplyCrossJoin3way -->\n",
       "<g id=\"edge7\" class=\"edge\">\n",
       "<title>R3&#45;&gt;[9]: ApplyCrossJoin3way</title>\n",
       "<path fill=\"none\" stroke=\"black\" d=\"M188.35,-334.53C177.52,-299.3 156.12,-229.66 144.31,-191.23\"/>\n",
       "<polygon fill=\"black\" stroke=\"black\" points=\"147.53,-189.8 141.25,-181.27 140.84,-191.86 147.53,-189.8\"/>\n",
       "</g>\n",
       "<!-- R1&#45;&gt;[9]: ApplyCrossJoin -->\n",
       "<g id=\"edge9\" class=\"edge\">\n",
       "<title>R1&#45;&gt;[9]: ApplyCrossJoin</title>\n",
       "<path fill=\"none\" stroke=\"black\" d=\"M127.57,-421.05C118.64,-409.94 107.03,-395.51 97.19,-383.28\"/>\n",
       "<polygon fill=\"black\" stroke=\"black\" points=\"99.71,-380.83 90.72,-375.23 94.26,-385.22 99.71,-380.83\"/>\n",
       "</g>\n",
       "<!-- R1_R2 -->\n",
       "<g id=\"node9\" class=\"node\">\n",
       "<title>R1_R2</title>\n",
       "<ellipse fill=\"none\" stroke=\"blue\" cx=\"102\" cy=\"-257.49\" rx=\"40.09\" ry=\"40.09\"/>\n",
       "<text text-anchor=\"middle\" x=\"102\" y=\"-253.79\" font-family=\"Times,serif\" font-size=\"14.00\" fill=\"blue\">R1_R2</text>\n",
       "</g>\n",
       "<!-- [9]: ApplyCrossJoin&#45;&gt;R1_R2 -->\n",
       "<g id=\"edge10\" class=\"edge\">\n",
       "<title>[9]: ApplyCrossJoin&#45;&gt;R1_R2</title>\n",
       "<path fill=\"none\" stroke=\"black\" d=\"M81.35,-339.16C83.69,-330.02 86.71,-318.25 89.7,-306.54\"/>\n",
       "<polygon fill=\"black\" stroke=\"black\" points=\"93.11,-307.33 92.2,-296.77 86.33,-305.59 93.11,-307.33\"/>\n",
       "</g>\n",
       "<!-- R1_R2&#45;&gt;[9]: ApplyCrossJoin3way -->\n",
       "<g id=\"edge11\" class=\"edge\">\n",
       "<title>R1_R2&#45;&gt;[9]: ApplyCrossJoin3way</title>\n",
       "<path fill=\"none\" stroke=\"black\" d=\"M115.63,-219.48C119.18,-209.86 122.92,-199.69 126.22,-190.73\"/>\n",
       "<polygon fill=\"black\" stroke=\"black\" points=\"129.55,-191.81 129.73,-181.22 122.99,-189.39 129.55,-191.81\"/>\n",
       "</g>\n",
       "<!-- reactants -->\n",
       "<g id=\"node11\" class=\"node\">\n",
       "<title>reactants</title>\n",
       "<ellipse fill=\"none\" stroke=\"blue\" cx=\"136\" cy=\"-54.6\" rx=\"54.69\" ry=\"54.69\"/>\n",
       "<text text-anchor=\"middle\" x=\"136\" y=\"-50.9\" font-family=\"Times,serif\" font-size=\"14.00\" fill=\"blue\">reactants</text>\n",
       "</g>\n",
       "<!-- [9]: ApplyCrossJoin3way&#45;&gt;reactants -->\n",
       "<g id=\"edge12\" class=\"edge\">\n",
       "<title>[9]: ApplyCrossJoin3way&#45;&gt;reactants</title>\n",
       "<path fill=\"none\" stroke=\"black\" d=\"M136,-145.06C136,-137.89 136,-129.06 136,-119.77\"/>\n",
       "<polygon fill=\"black\" stroke=\"black\" points=\"139.5,-119.56 136,-109.56 132.5,-119.56 139.5,-119.56\"/>\n",
       "</g>\n",
       "</g>\n",
       "</svg>\n"
      ],
      "text/plain": [
       "<IPython.core.display.HTML object>"
      ]
     },
     "metadata": {},
     "output_type": "display_data"
    },
    {
     "data": {
      "application/javascript": [
       "\n",
       "        if (typeof window.interactive_beam_jquery == 'undefined') {\n",
       "          var jqueryScript = document.createElement('script');\n",
       "          jqueryScript.src = 'https://code.jquery.com/jquery-3.4.1.slim.min.js';\n",
       "          jqueryScript.type = 'text/javascript';\n",
       "          jqueryScript.onload = function() {\n",
       "            var datatableScript = document.createElement('script');\n",
       "            datatableScript.src = 'https://cdn.datatables.net/1.10.20/js/jquery.dataTables.min.js';\n",
       "            datatableScript.type = 'text/javascript';\n",
       "            datatableScript.onload = function() {\n",
       "              window.interactive_beam_jquery = jQuery.noConflict(true);\n",
       "              window.interactive_beam_jquery(document).ready(function($){\n",
       "                \n",
       "            $(\"#progress_indicator_6b9ad1fbda1f7dcb8f8599039edce024\").remove();\n",
       "              });\n",
       "            }\n",
       "            document.head.appendChild(datatableScript);\n",
       "          };\n",
       "          document.head.appendChild(jqueryScript);\n",
       "        } else {\n",
       "          window.interactive_beam_jquery(document).ready(function($){\n",
       "            \n",
       "            $(\"#progress_indicator_6b9ad1fbda1f7dcb8f8599039edce024\").remove();\n",
       "          });\n",
       "        }"
      ]
     },
     "metadata": {},
     "output_type": "display_data"
    }
   ],
   "source": [
    "ib.show_graph(p)"
   ]
  },
  {
   "cell_type": "code",
   "execution_count": 11,
   "id": "6b10f970-a462-4ae3-9f86-7e47e05df1c5",
   "metadata": {},
   "outputs": [
    {
     "data": {
      "text/html": [
       "\n",
       "            <link rel=\"stylesheet\" href=\"https://stackpath.bootstrapcdn.com/bootstrap/4.4.1/css/bootstrap.min.css\" integrity=\"sha384-Vkoo8x4CGsO3+Hhxv8T/Q5PaXtkKtu6ug5TOeNV6gBiFeWPGFN9MuhOf23Q9Ifjh\" crossorigin=\"anonymous\">\n",
       "            <div id=\"progress_indicator_227e5601f600abcdf654db882530b9c8\">\n",
       "              <div class=\"spinner-border text-info\" role=\"status\"></div>\n",
       "              <span class=\"text-info\">Processing... show</span>\n",
       "            </div>\n",
       "            "
      ],
      "text/plain": [
       "<IPython.core.display.HTML object>"
      ]
     },
     "metadata": {},
     "output_type": "display_data"
    },
    {
     "data": {
      "text/html": [
       "\n",
       "            <style>\n",
       "            .p-Widget.jp-OutputPrompt.jp-OutputArea-prompt:empty {\n",
       "              padding: 0;\n",
       "              border: 0;\n",
       "            }\n",
       "            .p-Widget.jp-RenderedJavaScript.jp-mod-trusted.jp-OutputArea-output:empty {\n",
       "              padding: 0;\n",
       "              border: 0;\n",
       "            }\n",
       "            </style>\n",
       "            <link rel=\"stylesheet\" href=\"https://cdn.datatables.net/1.10.20/css/jquery.dataTables.min.css\">\n",
       "            <table id=\"table_df_b5308bbd986e3e0a54cae45aa57b61f5\" class=\"display\" style=\"display:block\"></table>\n",
       "            <script>\n",
       "              \n",
       "        if (typeof window.interactive_beam_jquery == 'undefined') {\n",
       "          var jqueryScript = document.createElement('script');\n",
       "          jqueryScript.src = 'https://code.jquery.com/jquery-3.4.1.slim.min.js';\n",
       "          jqueryScript.type = 'text/javascript';\n",
       "          jqueryScript.onload = function() {\n",
       "            var datatableScript = document.createElement('script');\n",
       "            datatableScript.src = 'https://cdn.datatables.net/1.10.20/js/jquery.dataTables.min.js';\n",
       "            datatableScript.type = 'text/javascript';\n",
       "            datatableScript.onload = function() {\n",
       "              window.interactive_beam_jquery = jQuery.noConflict(true);\n",
       "              window.interactive_beam_jquery(document).ready(function($){\n",
       "                \n",
       "            var dt;\n",
       "            if ($.fn.dataTable.isDataTable(\"#table_df_b5308bbd986e3e0a54cae45aa57b61f5\")) {\n",
       "              dt = $(\"#table_df_b5308bbd986e3e0a54cae45aa57b61f5\").dataTable();\n",
       "            } else if ($(\"#table_df_b5308bbd986e3e0a54cae45aa57b61f5_wrapper\").length == 0) {\n",
       "              dt = $(\"#table_df_b5308bbd986e3e0a54cae45aa57b61f5\").dataTable({\n",
       "                \n",
       "            bAutoWidth: false,\n",
       "            columns: [{'title': ''}, {'title': 'reactants.0'}, {'title': 'reactants.1'}, {'title': 'reactants.2'}],\n",
       "            destroy: true,\n",
       "            responsive: true,\n",
       "            columnDefs: [\n",
       "              {\n",
       "                targets: \"_all\",\n",
       "                className: \"dt-left\"\n",
       "              },\n",
       "              {\n",
       "                \"targets\": 0,\n",
       "                \"width\": \"10px\",\n",
       "                \"title\": \"\"\n",
       "              }\n",
       "            ]\n",
       "              });\n",
       "            } else {\n",
       "              return;\n",
       "            }\n",
       "            dt.api()\n",
       "              .clear()\n",
       "              .rows.add([{1: 'C1CCCC1', 2: 'C1CCCC1', 3: 'CC1C=CC=CC=1', 0: 0}, {1: 'C1CCCC1', 2: 'C1CCCCC1', 3: 'CC1C=CC=CC=1', 0: 1}, {1: 'C1CCCC1', 2: 'CC1C=CC=CC=1', 3: 'CC1C=CC=CC=1', 0: 2}, {1: 'C1CCCC1', 2: 'CC1C(C)=CC=CC=1', 3: 'CC1C=CC=CC=1', 0: 3}, {1: 'C1CCCC1', 2: 'CC1C=C(C)C=CC=1', 3: 'CC1C=CC=CC=1', 0: 4}, {1: 'C1C=CC=CC=1', 2: 'C1CCCC1', 3: 'CC1C=CC=CC=1', 0: 5}, {1: 'C1C=CC=CC=1', 2: 'C1CCCCC1', 3: 'CC1C=CC=CC=1', 0: 6}, {1: 'C1C=CC=CC=1', 2: 'CC1C=CC=CC=1', 3: 'CC1C=CC=CC=1', 0: 7}, {1: 'C1C=CC=CC=1', 2: 'CC1C(C)=CC=CC=1', 3: 'CC1C=CC=CC=1', 0: 8}, {1: 'C1C=CC=CC=1', 2: 'CC1C=C(C)C=CC=1', 3: 'CC1C=CC=CC=1', 0: 9}, {1: 'C1CCCCC1', 2: 'C1CCCC1', 3: 'CC1C=CC=CC=1', 0: 10}, {1: 'C1CCCCC1', 2: 'C1CCCCC1', 3: 'CC1C=CC=CC=1', 0: 11}, {1: 'C1CCCCC1', 2: 'CC1C=CC=CC=1', 3: 'CC1C=CC=CC=1', 0: 12}, {1: 'C1CCCCC1', 2: 'CC1C(C)=CC=CC=1', 3: 'CC1C=CC=CC=1', 0: 13}, {1: 'C1CCCCC1', 2: 'CC1C=C(C)C=CC=1', 3: 'CC1C=CC=CC=1', 0: 14}, {1: 'CC1C=C(C)C=CC=1', 2: 'C1CCCC1', 3: 'CC1C=CC=CC=1', 0: 15}, {1: 'CC1C=C(C)C=CC=1', 2: 'C1CCCCC1', 3: 'CC1C=CC=CC=1', 0: 16}, {1: 'CC1C=C(C)C=CC=1', 2: 'CC1C=CC=CC=1', 3: 'CC1C=CC=CC=1', 0: 17}, {1: 'CC1C=C(C)C=CC=1', 2: 'CC1C(C)=CC=CC=1', 3: 'CC1C=CC=CC=1', 0: 18}, {1: 'CC1C=C(C)C=CC=1', 2: 'CC1C=C(C)C=CC=1', 3: 'CC1C=CC=CC=1', 0: 19}])\n",
       "              .draw('full-hold');\n",
       "              });\n",
       "            }\n",
       "            document.head.appendChild(datatableScript);\n",
       "          };\n",
       "          document.head.appendChild(jqueryScript);\n",
       "        } else {\n",
       "          window.interactive_beam_jquery(document).ready(function($){\n",
       "            \n",
       "            var dt;\n",
       "            if ($.fn.dataTable.isDataTable(\"#table_df_b5308bbd986e3e0a54cae45aa57b61f5\")) {\n",
       "              dt = $(\"#table_df_b5308bbd986e3e0a54cae45aa57b61f5\").dataTable();\n",
       "            } else if ($(\"#table_df_b5308bbd986e3e0a54cae45aa57b61f5_wrapper\").length == 0) {\n",
       "              dt = $(\"#table_df_b5308bbd986e3e0a54cae45aa57b61f5\").dataTable({\n",
       "                \n",
       "            bAutoWidth: false,\n",
       "            columns: [{'title': ''}, {'title': 'reactants.0'}, {'title': 'reactants.1'}, {'title': 'reactants.2'}],\n",
       "            destroy: true,\n",
       "            responsive: true,\n",
       "            columnDefs: [\n",
       "              {\n",
       "                targets: \"_all\",\n",
       "                className: \"dt-left\"\n",
       "              },\n",
       "              {\n",
       "                \"targets\": 0,\n",
       "                \"width\": \"10px\",\n",
       "                \"title\": \"\"\n",
       "              }\n",
       "            ]\n",
       "              });\n",
       "            } else {\n",
       "              return;\n",
       "            }\n",
       "            dt.api()\n",
       "              .clear()\n",
       "              .rows.add([{1: 'C1CCCC1', 2: 'C1CCCC1', 3: 'CC1C=CC=CC=1', 0: 0}, {1: 'C1CCCC1', 2: 'C1CCCCC1', 3: 'CC1C=CC=CC=1', 0: 1}, {1: 'C1CCCC1', 2: 'CC1C=CC=CC=1', 3: 'CC1C=CC=CC=1', 0: 2}, {1: 'C1CCCC1', 2: 'CC1C(C)=CC=CC=1', 3: 'CC1C=CC=CC=1', 0: 3}, {1: 'C1CCCC1', 2: 'CC1C=C(C)C=CC=1', 3: 'CC1C=CC=CC=1', 0: 4}, {1: 'C1C=CC=CC=1', 2: 'C1CCCC1', 3: 'CC1C=CC=CC=1', 0: 5}, {1: 'C1C=CC=CC=1', 2: 'C1CCCCC1', 3: 'CC1C=CC=CC=1', 0: 6}, {1: 'C1C=CC=CC=1', 2: 'CC1C=CC=CC=1', 3: 'CC1C=CC=CC=1', 0: 7}, {1: 'C1C=CC=CC=1', 2: 'CC1C(C)=CC=CC=1', 3: 'CC1C=CC=CC=1', 0: 8}, {1: 'C1C=CC=CC=1', 2: 'CC1C=C(C)C=CC=1', 3: 'CC1C=CC=CC=1', 0: 9}, {1: 'C1CCCCC1', 2: 'C1CCCC1', 3: 'CC1C=CC=CC=1', 0: 10}, {1: 'C1CCCCC1', 2: 'C1CCCCC1', 3: 'CC1C=CC=CC=1', 0: 11}, {1: 'C1CCCCC1', 2: 'CC1C=CC=CC=1', 3: 'CC1C=CC=CC=1', 0: 12}, {1: 'C1CCCCC1', 2: 'CC1C(C)=CC=CC=1', 3: 'CC1C=CC=CC=1', 0: 13}, {1: 'C1CCCCC1', 2: 'CC1C=C(C)C=CC=1', 3: 'CC1C=CC=CC=1', 0: 14}, {1: 'CC1C=C(C)C=CC=1', 2: 'C1CCCC1', 3: 'CC1C=CC=CC=1', 0: 15}, {1: 'CC1C=C(C)C=CC=1', 2: 'C1CCCCC1', 3: 'CC1C=CC=CC=1', 0: 16}, {1: 'CC1C=C(C)C=CC=1', 2: 'CC1C=CC=CC=1', 3: 'CC1C=CC=CC=1', 0: 17}, {1: 'CC1C=C(C)C=CC=1', 2: 'CC1C(C)=CC=CC=1', 3: 'CC1C=CC=CC=1', 0: 18}, {1: 'CC1C=C(C)C=CC=1', 2: 'CC1C=C(C)C=CC=1', 3: 'CC1C=CC=CC=1', 0: 19}])\n",
       "              .draw('full-hold');\n",
       "          });\n",
       "        }\n",
       "            </script>"
      ],
      "text/plain": [
       "<IPython.core.display.HTML object>"
      ]
     },
     "metadata": {},
     "output_type": "display_data"
    },
    {
     "data": {
      "application/javascript": [
       "\n",
       "        if (typeof window.interactive_beam_jquery == 'undefined') {\n",
       "          var jqueryScript = document.createElement('script');\n",
       "          jqueryScript.src = 'https://code.jquery.com/jquery-3.4.1.slim.min.js';\n",
       "          jqueryScript.type = 'text/javascript';\n",
       "          jqueryScript.onload = function() {\n",
       "            var datatableScript = document.createElement('script');\n",
       "            datatableScript.src = 'https://cdn.datatables.net/1.10.20/js/jquery.dataTables.min.js';\n",
       "            datatableScript.type = 'text/javascript';\n",
       "            datatableScript.onload = function() {\n",
       "              window.interactive_beam_jquery = jQuery.noConflict(true);\n",
       "              window.interactive_beam_jquery(document).ready(function($){\n",
       "                \n",
       "            $(\"#progress_indicator_227e5601f600abcdf654db882530b9c8\").remove();\n",
       "              });\n",
       "            }\n",
       "            document.head.appendChild(datatableScript);\n",
       "          };\n",
       "          document.head.appendChild(jqueryScript);\n",
       "        } else {\n",
       "          window.interactive_beam_jquery(document).ready(function($){\n",
       "            \n",
       "            $(\"#progress_indicator_227e5601f600abcdf654db882530b9c8\").remove();\n",
       "          });\n",
       "        }"
      ]
     },
     "metadata": {},
     "output_type": "display_data"
    }
   ],
   "source": [
    "ib.show(reactants)"
   ]
  },
  {
   "cell_type": "markdown",
   "id": "57d92293-4481-4aeb-bb96-398c531a7162",
   "metadata": {},
   "source": [
    "Now reactants is a PCollection that can be passed along to the the next step of the pipeline. "
   ]
  },
  {
   "cell_type": "code",
   "execution_count": null,
   "id": "77facce1-2740-4b10-a2fe-80c492dbc849",
   "metadata": {},
   "outputs": [],
   "source": []
  }
 ],
 "metadata": {
  "kernelspec": {
   "display_name": "01. Apache Beam 2.42.0 for Python 3",
   "language": "python",
   "name": "01-apache-beam-2.42.0"
  },
  "language_info": {
   "codemirror_mode": {
    "name": "ipython",
    "version": 3
   },
   "file_extension": ".py",
   "mimetype": "text/x-python",
   "name": "python",
   "nbconvert_exporter": "python",
   "pygments_lexer": "ipython3",
   "version": "3.7.12"
  }
 },
 "nbformat": 4,
 "nbformat_minor": 5
}
